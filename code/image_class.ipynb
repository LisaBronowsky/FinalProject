{
 "cells": [
  {
   "cell_type": "code",
   "execution_count": 11,
   "metadata": {
    "ExecuteTime": {
     "end_time": "2024-02-24T15:47:18.871138Z",
     "start_time": "2024-02-24T15:47:18.864369Z"
    }
   },
   "outputs": [],
   "source": [
    "import pandas as pd"
   ]
  },
  {
   "cell_type": "code",
   "outputs": [],
   "source": [],
   "metadata": {
    "collapsed": false
   }
  },
  {
   "cell_type": "markdown",
   "metadata": {},
   "source": [
    "Link to original fruits and veg dataset: https://www.kaggle.com/datasets/kritikseth/fruit-and-vegetable-image-recognition"
   ]
  },
  {
   "cell_type": "markdown",
   "metadata": {},
   "source": [
    "### Base VGG 16"
   ]
  },
  {
   "cell_type": "code",
   "execution_count": 12,
   "metadata": {
    "ExecuteTime": {
     "end_time": "2024-02-24T15:47:22.422118Z",
     "start_time": "2024-02-24T15:47:22.406525Z"
    }
   },
   "outputs": [],
   "source": [
    "from keras.applications.vgg16 import VGG16\n",
    "from tensorflow.keras.preprocessing import image\n",
    "from tensorflow.keras.applications.vgg16 import preprocess_input,decode_predictions\n",
    "from tensorflow.keras.models import Sequential\n",
    "from tensorflow.keras.layers import Dense, Flatten, GlobalAveragePooling2D\n",
    "from tensorflow.keras.preprocessing.image import ImageDataGenerator\n",
    "from tensorflow.keras.models import Model, load_model\n",
    "import matplotlib.pyplot as plt\n",
    "import os\n",
    "import numpy as np"
   ]
  },
  {
   "cell_type": "code",
   "execution_count": 7,
   "metadata": {
    "ExecuteTime": {
     "end_time": "2024-02-09T13:01:14.877776Z",
     "start_time": "2024-02-09T13:01:12.801820Z"
    }
   },
   "outputs": [
    {
     "name": "stdout",
     "output_type": "stream",
     "text": [
      "Model: \"vgg16\"\n",
      "_________________________________________________________________\n",
      " Layer (type)                Output Shape              Param #   \n",
      "=================================================================\n",
      " input_1 (InputLayer)        [(None, 224, 224, 3)]     0         \n",
      "                                                                 \n",
      " block1_conv1 (Conv2D)       (None, 224, 224, 64)      1792      \n",
      "                                                                 \n",
      " block1_conv2 (Conv2D)       (None, 224, 224, 64)      36928     \n",
      "                                                                 \n",
      " block1_pool (MaxPooling2D)  (None, 112, 112, 64)      0         \n",
      "                                                                 \n",
      " block2_conv1 (Conv2D)       (None, 112, 112, 128)     73856     \n",
      "                                                                 \n",
      " block2_conv2 (Conv2D)       (None, 112, 112, 128)     147584    \n",
      "                                                                 \n",
      " block2_pool (MaxPooling2D)  (None, 56, 56, 128)       0         \n",
      "                                                                 \n",
      " block3_conv1 (Conv2D)       (None, 56, 56, 256)       295168    \n",
      "                                                                 \n",
      " block3_conv2 (Conv2D)       (None, 56, 56, 256)       590080    \n",
      "                                                                 \n",
      " block3_conv3 (Conv2D)       (None, 56, 56, 256)       590080    \n",
      "                                                                 \n",
      " block3_pool (MaxPooling2D)  (None, 28, 28, 256)       0         \n",
      "                                                                 \n",
      " block4_conv1 (Conv2D)       (None, 28, 28, 512)       1180160   \n",
      "                                                                 \n",
      " block4_conv2 (Conv2D)       (None, 28, 28, 512)       2359808   \n",
      "                                                                 \n",
      " block4_conv3 (Conv2D)       (None, 28, 28, 512)       2359808   \n",
      "                                                                 \n",
      " block4_pool (MaxPooling2D)  (None, 14, 14, 512)       0         \n",
      "                                                                 \n",
      " block5_conv1 (Conv2D)       (None, 14, 14, 512)       2359808   \n",
      "                                                                 \n",
      " block5_conv2 (Conv2D)       (None, 14, 14, 512)       2359808   \n",
      "                                                                 \n",
      " block5_conv3 (Conv2D)       (None, 14, 14, 512)       2359808   \n",
      "                                                                 \n",
      " block5_pool (MaxPooling2D)  (None, 7, 7, 512)         0         \n",
      "                                                                 \n",
      " flatten (Flatten)           (None, 25088)             0         \n",
      "                                                                 \n",
      " fc1 (Dense)                 (None, 4096)              102764544 \n",
      "                                                                 \n",
      " fc2 (Dense)                 (None, 4096)              16781312  \n",
      "                                                                 \n",
      " predictions (Dense)         (None, 1000)              4097000   \n",
      "                                                                 \n",
      "=================================================================\n",
      "Total params: 138357544 (527.79 MB)\n",
      "Trainable params: 138357544 (527.79 MB)\n",
      "Non-trainable params: 0 (0.00 Byte)\n",
      "_________________________________________________________________\n",
      "None\n"
     ]
    }
   ],
   "source": [
    "model = VGG16(weights='imagenet')\n",
    "print(model.summary())"
   ]
  },
  {
   "cell_type": "code",
   "execution_count": 78,
   "metadata": {},
   "outputs": [
    {
     "data": {
      "image/png": "[encoded data removed]",
      "text/plain": [
       "<PIL.Image.Image image mode=RGB size=224x224>"
      ]
     },
     "metadata": {},
     "output_type": "display_data"
    }
   ],
   "source": [
    "img_path = '/Users/lisadujesiefken/Documents/ULondon/Final Project/code/images/test/apple/Image_1.jpg'\n",
    "img = image.load_img(img_path,color_mode='rgb', target_size=(224, 224))\n",
    "display(img)\n",
    "img_array = image.img_to_array(img)\n",
    "img_array = np.expand_dims(img_array, axis=0)\n",
    "img_array = preprocess_input(img_array)"
   ]
  },
  {
   "cell_type": "code",
   "execution_count": 79,
   "metadata": {},
   "outputs": [
    {
     "name": "stdout",
     "output_type": "stream",
     "text": [
      "1/1 [==============================] - 0s 142ms/step\n",
      "Predictions:\n",
      "1: Granny_Smith (0.58)\n",
      "2: strawberry (0.23)\n",
      "3: orange (0.07)\n"
     ]
    }
   ],
   "source": [
    "predictions = model.predict(img_array)\n",
    "\n",
    "# Decode and print the top-3 predicted classes\n",
    "decoded_predictions = decode_predictions(predictions, top=3)[0]\n",
    "print(\"Predictions:\")\n",
    "for i, (imagenet_id, label, score) in enumerate(decoded_predictions):\n",
    "    print(f\"{i + 1}: {label} ({score:.2f})\")"
   ]
  },
  {
   "cell_type": "markdown",
   "metadata": {},
   "source": [
    "### Fine-tuning VGG 16 on dataset"
   ]
  },
  {
   "cell_type": "code",
   "execution_count": 8,
   "metadata": {
    "ExecuteTime": {
     "end_time": "2024-02-09T13:30:28.787267Z",
     "start_time": "2024-02-09T13:30:28.263532Z"
    }
   },
   "outputs": [],
   "source": [
    "# Load VGG16 model with pre-trained weights (excluding the top layers)\n",
    "base_model = VGG16(weights='imagenet', include_top=False, input_shape=(224, 224, 3))\n",
    "\n",
    "# Freezing pre-trained layers\n",
    "for layer in base_model.layers:\n",
    "    layer.trainable = False\n",
    "\n",
    "#number of classes in dataset\n",
    "num_classes = 36\n",
    "# Create a new model with custom top layers for your specific task\n",
    "model = Sequential()\n",
    "model.add(base_model)\n",
    "model.add(Flatten())\n",
    "model.add(Dense(256, activation='relu'))\n",
    "model.add(Dense(num_classes, activation='softmax'))  # Change num_classes to the number of classes in your dataset"
   ]
  },
  {
   "cell_type": "code",
   "execution_count": 9,
   "metadata": {
    "ExecuteTime": {
     "end_time": "2024-02-09T13:30:31.208709Z",
     "start_time": "2024-02-09T13:30:31.184461Z"
    }
   },
   "outputs": [],
   "source": [
    "model.compile(optimizer='adam', loss='categorical_crossentropy', metrics=['accuracy'])\n"
   ]
  },
  {
   "cell_type": "code",
   "execution_count": 8,
   "metadata": {
    "ExecuteTime": {
     "end_time": "2024-02-18T13:43:37.968314Z",
     "start_time": "2024-02-18T13:43:37.847809Z"
    }
   },
   "outputs": [
    {
     "name": "stdout",
     "output_type": "stream",
     "text": [
      "Found 3115 images belonging to 36 classes.\n",
      "Found 351 images belonging to 36 classes.\n"
     ]
    }
   ],
   "source": [
    "train_datagen = ImageDataGenerator(rescale=1./255, shear_range=0.2, zoom_range=0.2, horizontal_flip=True)\n",
    "test_datagen = ImageDataGenerator(rescale=1./255)\n",
    "\n",
    "batch_size = 64\n",
    "train_generator = train_datagen.flow_from_directory('/Users/lisadujesiefken/Documents/ULondon/Final Project/code/images/train',\n",
    "                                                     target_size=(224, 224), batch_size=batch_size, class_mode='categorical')\n",
    "validation_generator = test_datagen.flow_from_directory('/Users/lisadujesiefken/Documents/ULondon/Final Project/code/images/validation',\n",
    "                                                         target_size=(224, 224), batch_size=batch_size, class_mode='categorical')\n"
   ]
  },
  {
   "cell_type": "code",
   "execution_count": 11,
   "metadata": {
    "ExecuteTime": {
     "end_time": "2024-02-09T23:28:13.530175Z",
     "start_time": "2024-02-09T13:30:37.936461Z"
    }
   },
   "outputs": [
    {
     "name": "stdout",
     "output_type": "stream",
     "text": [
      "Epoch 1/100\n",
      " 3/49 [>.............................] - ETA: 4:39 - loss: 6.4740 - accuracy: 0.0208"
     ]
    },
    {
     "name": "stderr",
     "output_type": "stream",
     "text": [
      "/Users/lisadujesiefken/Documents/ULondon/Final Project/code/venv/lib/python3.9/site-packages/PIL/Image.py:981: UserWarning: Palette images with Transparency expressed in bytes should be converted to RGBA images\n",
      "  warnings.warn(\n"
     ]
    },
    {
     "name": "stdout",
     "output_type": "stream",
     "text": [
      "49/49 [==============================] - 373s 8s/step - loss: 3.2130 - accuracy: 0.2600 - val_loss: 1.4144 - val_accuracy: 0.6724\n",
      "Epoch 2/100\n",
      "49/49 [==============================] - 360s 7s/step - loss: 1.6316 - accuracy: 0.5599 - val_loss: 0.7482 - val_accuracy: 0.8376\n",
      "Epoch 3/100\n",
      "49/49 [==============================] - 367s 7s/step - loss: 1.1277 - accuracy: 0.7034 - val_loss: 0.5755 - val_accuracy: 0.8575\n",
      "Epoch 4/100\n",
      "49/49 [==============================] - 378s 8s/step - loss: 0.8638 - accuracy: 0.7669 - val_loss: 0.4073 - val_accuracy: 0.9003\n",
      "Epoch 5/100\n",
      "49/49 [==============================] - 369s 8s/step - loss: 0.6645 - accuracy: 0.8225 - val_loss: 0.2769 - val_accuracy: 0.9487\n",
      "Epoch 6/100\n",
      "49/49 [==============================] - 357s 7s/step - loss: 0.5229 - accuracy: 0.8629 - val_loss: 0.2489 - val_accuracy: 0.9430\n",
      "Epoch 7/100\n",
      "49/49 [==============================] - 349s 7s/step - loss: 0.4107 - accuracy: 0.9018 - val_loss: 0.2277 - val_accuracy: 0.9402\n",
      "Epoch 8/100\n",
      "49/49 [==============================] - 271s 6s/step - loss: 0.3409 - accuracy: 0.9213 - val_loss: 0.2469 - val_accuracy: 0.9345\n",
      "Epoch 9/100\n",
      "49/49 [==============================] - 273s 6s/step - loss: 0.2891 - accuracy: 0.9274 - val_loss: 0.1872 - val_accuracy: 0.9573\n",
      "Epoch 10/100\n",
      "49/49 [==============================] - 273s 6s/step - loss: 0.2318 - accuracy: 0.9493 - val_loss: 0.1525 - val_accuracy: 0.9601\n",
      "Epoch 11/100\n",
      "49/49 [==============================] - 284s 6s/step - loss: 0.1831 - accuracy: 0.9666 - val_loss: 0.1865 - val_accuracy: 0.9573\n",
      "Epoch 12/100\n",
      "49/49 [==============================] - 343s 7s/step - loss: 0.1802 - accuracy: 0.9618 - val_loss: 0.1732 - val_accuracy: 0.9601\n",
      "Epoch 13/100\n",
      "49/49 [==============================] - 348s 7s/step - loss: 0.1523 - accuracy: 0.9660 - val_loss: 0.1558 - val_accuracy: 0.9658\n",
      "Epoch 14/100\n",
      "49/49 [==============================] - 350s 7s/step - loss: 0.1229 - accuracy: 0.9753 - val_loss: 0.1496 - val_accuracy: 0.9658\n",
      "Epoch 15/100\n",
      "49/49 [==============================] - 367s 7s/step - loss: 0.1172 - accuracy: 0.9772 - val_loss: 0.1543 - val_accuracy: 0.9573\n",
      "Epoch 16/100\n",
      "49/49 [==============================] - 343s 7s/step - loss: 0.0977 - accuracy: 0.9811 - val_loss: 0.1816 - val_accuracy: 0.9544\n",
      "Epoch 17/100\n",
      "49/49 [==============================] - 360s 7s/step - loss: 0.0984 - accuracy: 0.9807 - val_loss: 0.1391 - val_accuracy: 0.9601\n",
      "Epoch 18/100\n",
      "49/49 [==============================] - 348s 7s/step - loss: 0.0858 - accuracy: 0.9833 - val_loss: 0.1523 - val_accuracy: 0.9658\n",
      "Epoch 19/100\n",
      "49/49 [==============================] - 353s 7s/step - loss: 0.0916 - accuracy: 0.9820 - val_loss: 0.1510 - val_accuracy: 0.9601\n",
      "Epoch 20/100\n",
      "49/49 [==============================] - 377s 8s/step - loss: 0.0785 - accuracy: 0.9846 - val_loss: 0.1823 - val_accuracy: 0.9487\n",
      "Epoch 21/100\n",
      "49/49 [==============================] - 362s 7s/step - loss: 0.0748 - accuracy: 0.9849 - val_loss: 0.1614 - val_accuracy: 0.9658\n",
      "Epoch 22/100\n",
      "49/49 [==============================] - 341s 7s/step - loss: 0.0691 - accuracy: 0.9856 - val_loss: 0.1831 - val_accuracy: 0.9630\n",
      "Epoch 23/100\n",
      "49/49 [==============================] - 344s 7s/step - loss: 0.0691 - accuracy: 0.9878 - val_loss: 0.1883 - val_accuracy: 0.9658\n",
      "Epoch 24/100\n",
      "49/49 [==============================] - 330s 7s/step - loss: 0.0674 - accuracy: 0.9849 - val_loss: 0.2090 - val_accuracy: 0.9601\n",
      "Epoch 25/100\n",
      "49/49 [==============================] - 293s 6s/step - loss: 0.0674 - accuracy: 0.9839 - val_loss: 0.1612 - val_accuracy: 0.9601\n",
      "Epoch 26/100\n",
      "49/49 [==============================] - 275s 6s/step - loss: 0.0663 - accuracy: 0.9833 - val_loss: 0.1790 - val_accuracy: 0.9601\n",
      "Epoch 27/100\n",
      "49/49 [==============================] - 273s 6s/step - loss: 0.0582 - accuracy: 0.9856 - val_loss: 0.1833 - val_accuracy: 0.9516\n",
      "Epoch 28/100\n",
      "49/49 [==============================] - 273s 6s/step - loss: 0.0572 - accuracy: 0.9872 - val_loss: 0.1750 - val_accuracy: 0.9601\n",
      "Epoch 29/100\n",
      "49/49 [==============================] - 308s 6s/step - loss: 0.0662 - accuracy: 0.9843 - val_loss: 0.1678 - val_accuracy: 0.9573\n",
      "Epoch 30/100\n",
      "49/49 [==============================] - 361s 7s/step - loss: 0.0502 - accuracy: 0.9900 - val_loss: 0.1791 - val_accuracy: 0.9544\n",
      "Epoch 31/100\n",
      "49/49 [==============================] - 390s 8s/step - loss: 0.0464 - accuracy: 0.9888 - val_loss: 0.1542 - val_accuracy: 0.9601\n",
      "Epoch 32/100\n",
      "49/49 [==============================] - 377s 8s/step - loss: 0.0510 - accuracy: 0.9881 - val_loss: 0.1795 - val_accuracy: 0.9601\n",
      "Epoch 33/100\n",
      "49/49 [==============================] - 345s 7s/step - loss: 0.0677 - accuracy: 0.9836 - val_loss: 0.1744 - val_accuracy: 0.9573\n",
      "Epoch 34/100\n",
      "49/49 [==============================] - 338s 7s/step - loss: 0.0589 - accuracy: 0.9846 - val_loss: 0.1780 - val_accuracy: 0.9601\n",
      "Epoch 35/100\n",
      "49/49 [==============================] - 342s 7s/step - loss: 0.0521 - accuracy: 0.9859 - val_loss: 0.1799 - val_accuracy: 0.9601\n",
      "Epoch 36/100\n",
      "49/49 [==============================] - 338s 7s/step - loss: 0.0489 - accuracy: 0.9884 - val_loss: 0.2058 - val_accuracy: 0.9630\n",
      "Epoch 37/100\n",
      "49/49 [==============================] - 296s 6s/step - loss: 0.0646 - accuracy: 0.9811 - val_loss: 0.2101 - val_accuracy: 0.9544\n",
      "Epoch 38/100\n",
      "49/49 [==============================] - 303s 6s/step - loss: 0.0729 - accuracy: 0.9804 - val_loss: 0.2300 - val_accuracy: 0.9544\n",
      "Epoch 39/100\n",
      "49/49 [==============================] - 299s 6s/step - loss: 0.0541 - accuracy: 0.9881 - val_loss: 0.1690 - val_accuracy: 0.9601\n",
      "Epoch 40/100\n",
      "49/49 [==============================] - 309s 6s/step - loss: 0.0494 - accuracy: 0.9872 - val_loss: 0.1746 - val_accuracy: 0.9601\n",
      "Epoch 41/100\n",
      "49/49 [==============================] - 339s 7s/step - loss: 0.0477 - accuracy: 0.9897 - val_loss: 0.1768 - val_accuracy: 0.9630\n",
      "Epoch 42/100\n",
      "49/49 [==============================] - 328s 7s/step - loss: 0.0416 - accuracy: 0.9891 - val_loss: 0.2049 - val_accuracy: 0.9630\n",
      "Epoch 43/100\n",
      "49/49 [==============================] - 329s 7s/step - loss: 0.0420 - accuracy: 0.9878 - val_loss: 0.1827 - val_accuracy: 0.9687\n",
      "Epoch 44/100\n",
      "49/49 [==============================] - 333s 7s/step - loss: 0.0417 - accuracy: 0.9884 - val_loss: 0.1555 - val_accuracy: 0.9630\n",
      "Epoch 45/100\n",
      "49/49 [==============================] - 314s 6s/step - loss: 0.0428 - accuracy: 0.9894 - val_loss: 0.1877 - val_accuracy: 0.9601\n",
      "Epoch 46/100\n",
      "49/49 [==============================] - 275s 6s/step - loss: 0.0563 - accuracy: 0.9872 - val_loss: 0.1933 - val_accuracy: 0.9601\n",
      "Epoch 47/100\n",
      "49/49 [==============================] - 274s 6s/step - loss: 0.0413 - accuracy: 0.9891 - val_loss: 0.1658 - val_accuracy: 0.9573\n",
      "Epoch 48/100\n",
      "49/49 [==============================] - 283s 6s/step - loss: 0.0303 - accuracy: 0.9936 - val_loss: 0.1926 - val_accuracy: 0.9516\n",
      "Epoch 49/100\n",
      "49/49 [==============================] - 364s 7s/step - loss: 0.0393 - accuracy: 0.9897 - val_loss: 0.1762 - val_accuracy: 0.9573\n",
      "Epoch 50/100\n",
      "49/49 [==============================] - 379s 8s/step - loss: 0.0463 - accuracy: 0.9891 - val_loss: 0.1857 - val_accuracy: 0.9601\n",
      "Epoch 51/100\n",
      "49/49 [==============================] - 382s 8s/step - loss: 0.0471 - accuracy: 0.9888 - val_loss: 0.1707 - val_accuracy: 0.9601\n",
      "Epoch 52/100\n",
      "49/49 [==============================] - 382s 8s/step - loss: 0.0458 - accuracy: 0.9865 - val_loss: 0.1518 - val_accuracy: 0.9601\n",
      "Epoch 53/100\n",
      "49/49 [==============================] - 294s 6s/step - loss: 0.0414 - accuracy: 0.9878 - val_loss: 0.1622 - val_accuracy: 0.9630\n",
      "Epoch 54/100\n",
      "49/49 [==============================] - 268s 5s/step - loss: 0.0497 - accuracy: 0.9843 - val_loss: 0.1509 - val_accuracy: 0.9630\n",
      "Epoch 55/100\n",
      "49/49 [==============================] - 361s 7s/step - loss: 0.0514 - accuracy: 0.9843 - val_loss: 0.1720 - val_accuracy: 0.9658\n",
      "Epoch 56/100\n",
      "49/49 [==============================] - 378s 8s/step - loss: 0.0747 - accuracy: 0.9795 - val_loss: 0.2091 - val_accuracy: 0.9544\n",
      "Epoch 57/100\n",
      "49/49 [==============================] - 381s 8s/step - loss: 0.1080 - accuracy: 0.9679 - val_loss: 0.2101 - val_accuracy: 0.9573\n",
      "Epoch 58/100\n",
      "49/49 [==============================] - 381s 8s/step - loss: 0.1218 - accuracy: 0.9618 - val_loss: 0.2044 - val_accuracy: 0.9658\n",
      "Epoch 59/100\n",
      "49/49 [==============================] - 346s 7s/step - loss: 0.0876 - accuracy: 0.9711 - val_loss: 0.2165 - val_accuracy: 0.9573\n",
      "Epoch 60/100\n",
      "49/49 [==============================] - 268s 5s/step - loss: 0.0775 - accuracy: 0.9743 - val_loss: 0.1842 - val_accuracy: 0.9658\n",
      "Epoch 61/100\n",
      "49/49 [==============================] - 311s 6s/step - loss: 0.0625 - accuracy: 0.9817 - val_loss: 0.1903 - val_accuracy: 0.9658\n",
      "Epoch 62/100\n",
      "49/49 [==============================] - 376s 8s/step - loss: 0.0913 - accuracy: 0.9730 - val_loss: 0.2348 - val_accuracy: 0.9487\n",
      "Epoch 63/100\n",
      "49/49 [==============================] - 381s 8s/step - loss: 0.0553 - accuracy: 0.9827 - val_loss: 0.1841 - val_accuracy: 0.9630\n",
      "Epoch 64/100\n",
      "49/49 [==============================] - 382s 8s/step - loss: 0.0454 - accuracy: 0.9849 - val_loss: 0.1743 - val_accuracy: 0.9658\n",
      "Epoch 65/100\n",
      "49/49 [==============================] - 383s 8s/step - loss: 0.0552 - accuracy: 0.9811 - val_loss: 0.2141 - val_accuracy: 0.9630\n",
      "Epoch 66/100\n",
      "49/49 [==============================] - 290s 6s/step - loss: 0.0426 - accuracy: 0.9852 - val_loss: 0.2075 - val_accuracy: 0.9630\n",
      "Epoch 67/100\n",
      "49/49 [==============================] - 276s 6s/step - loss: 0.0485 - accuracy: 0.9859 - val_loss: 0.2427 - val_accuracy: 0.9658\n",
      "Epoch 68/100\n",
      "49/49 [==============================] - 365s 7s/step - loss: 0.0343 - accuracy: 0.9888 - val_loss: 0.1998 - val_accuracy: 0.9630\n",
      "Epoch 69/100\n",
      "49/49 [==============================] - 382s 8s/step - loss: 0.0342 - accuracy: 0.9884 - val_loss: 0.2237 - val_accuracy: 0.9573\n",
      "Epoch 70/100\n",
      "49/49 [==============================] - 383s 8s/step - loss: 0.0475 - accuracy: 0.9839 - val_loss: 0.1798 - val_accuracy: 0.9601\n",
      "Epoch 71/100\n",
      "49/49 [==============================] - 382s 8s/step - loss: 0.0432 - accuracy: 0.9823 - val_loss: 0.1992 - val_accuracy: 0.9630\n",
      "Epoch 72/100\n",
      "49/49 [==============================] - 323s 7s/step - loss: 0.0486 - accuracy: 0.9843 - val_loss: 0.2026 - val_accuracy: 0.9630\n",
      "Epoch 73/100\n",
      "49/49 [==============================] - 269s 5s/step - loss: 0.0701 - accuracy: 0.9750 - val_loss: 0.2576 - val_accuracy: 0.9487\n",
      "Epoch 74/100\n",
      "49/49 [==============================] - 340s 7s/step - loss: 0.0561 - accuracy: 0.9839 - val_loss: 0.2124 - val_accuracy: 0.9544\n",
      "Epoch 75/100\n",
      "49/49 [==============================] - 381s 8s/step - loss: 0.0666 - accuracy: 0.9795 - val_loss: 0.2018 - val_accuracy: 0.9658\n",
      "Epoch 76/100\n",
      "49/49 [==============================] - 382s 8s/step - loss: 0.0492 - accuracy: 0.9843 - val_loss: 0.2874 - val_accuracy: 0.9573\n",
      "Epoch 77/100\n",
      "49/49 [==============================] - 383s 8s/step - loss: 0.0592 - accuracy: 0.9807 - val_loss: 0.2798 - val_accuracy: 0.9573\n",
      "Epoch 78/100\n",
      "49/49 [==============================] - 350s 7s/step - loss: 0.0443 - accuracy: 0.9856 - val_loss: 0.2227 - val_accuracy: 0.9601\n",
      "Epoch 79/100\n",
      "49/49 [==============================] - 271s 6s/step - loss: 0.0432 - accuracy: 0.9868 - val_loss: 0.2347 - val_accuracy: 0.9630\n",
      "Epoch 80/100\n",
      "49/49 [==============================] - 311s 6s/step - loss: 0.0403 - accuracy: 0.9862 - val_loss: 0.2105 - val_accuracy: 0.9573\n",
      "Epoch 81/100\n",
      "49/49 [==============================] - 380s 8s/step - loss: 0.0293 - accuracy: 0.9897 - val_loss: 0.2196 - val_accuracy: 0.9630\n",
      "Epoch 82/100\n",
      "49/49 [==============================] - 383s 8s/step - loss: 0.0304 - accuracy: 0.9891 - val_loss: 0.2335 - val_accuracy: 0.9573\n",
      "Epoch 83/100\n",
      "49/49 [==============================] - 597s 12s/step - loss: 0.0274 - accuracy: 0.9904 - val_loss: 0.2198 - val_accuracy: 0.9573\n",
      "Epoch 84/100\n",
      "49/49 [==============================] - 394s 8s/step - loss: 0.0276 - accuracy: 0.9900 - val_loss: 0.2538 - val_accuracy: 0.9601\n",
      "Epoch 85/100\n",
      "49/49 [==============================] - 339s 7s/step - loss: 0.0327 - accuracy: 0.9884 - val_loss: 0.2268 - val_accuracy: 0.9544\n",
      "Epoch 86/100\n",
      "49/49 [==============================] - 522s 11s/step - loss: 0.0337 - accuracy: 0.9891 - val_loss: 0.2439 - val_accuracy: 0.9630\n",
      "Epoch 87/100\n",
      "49/49 [==============================] - 530s 11s/step - loss: 0.0332 - accuracy: 0.9884 - val_loss: 0.2317 - val_accuracy: 0.9601\n",
      "Epoch 88/100\n",
      "49/49 [==============================] - 515s 10s/step - loss: 0.0301 - accuracy: 0.9904 - val_loss: 0.2365 - val_accuracy: 0.9630\n",
      "Epoch 89/100\n",
      "49/49 [==============================] - 292s 6s/step - loss: 0.0402 - accuracy: 0.9868 - val_loss: 0.2695 - val_accuracy: 0.9573\n",
      "Epoch 90/100\n",
      "49/49 [==============================] - 414s 8s/step - loss: 0.0787 - accuracy: 0.9743 - val_loss: 0.3025 - val_accuracy: 0.9544\n",
      "Epoch 91/100\n",
      "49/49 [==============================] - 527s 11s/step - loss: 0.0880 - accuracy: 0.9695 - val_loss: 0.3057 - val_accuracy: 0.9687\n",
      "Epoch 92/100\n",
      "49/49 [==============================] - 527s 11s/step - loss: 0.0986 - accuracy: 0.9698 - val_loss: 0.2847 - val_accuracy: 0.9516\n",
      "Epoch 93/100\n",
      "49/49 [==============================] - 430s 9s/step - loss: 0.0614 - accuracy: 0.9788 - val_loss: 0.2686 - val_accuracy: 0.9516\n",
      "Epoch 94/100\n",
      "49/49 [==============================] - 304s 6s/step - loss: 0.0680 - accuracy: 0.9746 - val_loss: 0.2404 - val_accuracy: 0.9544\n",
      "Epoch 95/100\n",
      "49/49 [==============================] - 498s 10s/step - loss: 0.0941 - accuracy: 0.9730 - val_loss: 0.3648 - val_accuracy: 0.9430\n",
      "Epoch 96/100\n",
      "49/49 [==============================] - 529s 11s/step - loss: 0.0961 - accuracy: 0.9705 - val_loss: 0.3206 - val_accuracy: 0.9573\n",
      "Epoch 97/100\n",
      "49/49 [==============================] - 533s 11s/step - loss: 0.0719 - accuracy: 0.9762 - val_loss: 0.2792 - val_accuracy: 0.9601\n",
      "Epoch 98/100\n",
      "49/49 [==============================] - 339s 7s/step - loss: 0.0650 - accuracy: 0.9798 - val_loss: 0.2912 - val_accuracy: 0.9544\n",
      "Epoch 99/100\n",
      "49/49 [==============================] - 358s 7s/step - loss: 0.0628 - accuracy: 0.9788 - val_loss: 0.2156 - val_accuracy: 0.9630\n",
      "Epoch 100/100\n",
      "49/49 [==============================] - 522s 11s/step - loss: 0.0349 - accuracy: 0.9868 - val_loss: 0.3226 - val_accuracy: 0.9630\n"
     ]
    }
   ],
   "source": [
    "#using 100 epochs\n",
    "epochs = 100\n",
    "history = model.fit(train_generator, epochs=epochs, validation_data=validation_generator)\n"
   ]
  },
  {
   "cell_type": "markdown",
   "metadata": {},
   "source": [
    "### Assessing performance of fine-tuned VGG-16 model"
   ]
  },
  {
   "cell_type": "code",
   "execution_count": 12,
   "metadata": {
    "ExecuteTime": {
     "end_time": "2024-02-10T08:18:06.447912Z",
     "start_time": "2024-02-10T08:18:06.208100Z"
    }
   },
   "outputs": [
    {
     "data": {
      "text/plain": "<Figure size 640x480 with 1 Axes>",
      "image/png": "[encoded data removed]"
     },
     "metadata": {},
     "output_type": "display_data"
    }
   ],
   "source": [
    "# Plot training & validation accuracy values\n",
    "plt.plot(history.history['accuracy'])\n",
    "plt.plot(history.history['val_accuracy'])\n",
    "plt.title('Model Accuracy Over Epochs')\n",
    "plt.xlabel('Epoch')\n",
    "plt.ylabel('Accuracy')\n",
    "plt.legend(['Training', 'Validation'], loc='upper left')\n",
    "plt.show()"
   ]
  },
  {
   "cell_type": "code",
   "outputs": [
    {
     "data": {
      "text/plain": "<Figure size 640x480 with 0 Axes>"
     },
     "metadata": {},
     "output_type": "display_data"
    }
   ],
   "source": [
    "output_image_path = \"VGG16_finetuned_100epochs_visualization.jpg\"  # Change this to the desired output path\n",
    "plt.savefig(output_image_path)"
   ],
   "metadata": {
    "collapsed": false,
    "ExecuteTime": {
     "end_time": "2024-02-10T12:39:58.735187Z",
     "start_time": "2024-02-10T12:39:58.702608Z"
    }
   },
   "execution_count": 15
  },
  {
   "cell_type": "code",
   "execution_count": 10,
   "metadata": {
    "ExecuteTime": {
     "end_time": "2024-02-18T13:48:10.455751Z",
     "start_time": "2024-02-18T13:48:10.358398Z"
    }
   },
   "outputs": [
    {
     "ename": "NameError",
     "evalue": "name 'history' is not defined",
     "output_type": "error",
     "traceback": [
      "\u001B[0;31m---------------------------------------------------------------------------\u001B[0m",
      "\u001B[0;31mNameError\u001B[0m                                 Traceback (most recent call last)",
      "Cell \u001B[0;32mIn[10], line 2\u001B[0m\n\u001B[1;32m      1\u001B[0m \u001B[38;5;66;03m#VGG-16 accuracy and validation accuracy measures\u001B[39;00m\n\u001B[0;32m----> 2\u001B[0m accuracy \u001B[38;5;241m=\u001B[39m \u001B[43mhistory\u001B[49m\u001B[38;5;241m.\u001B[39mhistory[\u001B[38;5;124m'\u001B[39m\u001B[38;5;124maccuracy\u001B[39m\u001B[38;5;124m'\u001B[39m]\n\u001B[1;32m      3\u001B[0m val_accuracy \u001B[38;5;241m=\u001B[39m history\u001B[38;5;241m.\u001B[39mhistory[\u001B[38;5;124m'\u001B[39m\u001B[38;5;124mval_accuracy\u001B[39m\u001B[38;5;124m'\u001B[39m]\n\u001B[1;32m      4\u001B[0m loss \u001B[38;5;241m=\u001B[39m history\u001B[38;5;241m.\u001B[39mhistory[\u001B[38;5;124m'\u001B[39m\u001B[38;5;124mloss\u001B[39m\u001B[38;5;124m'\u001B[39m]\n",
      "\u001B[0;31mNameError\u001B[0m: name 'history' is not defined"
     ]
    }
   ],
   "source": [
    "#InceptionV3 accuracy and validation accuracy measures\n",
    "accuracy = history.history['accuracy']\n",
    "val_accuracy = history.history['val_accuracy']\n",
    "loss = history.history['loss']\n",
    "val_loss = history.history['val_loss']\n",
    "print(f'VGG-16 Accuracy:{accuracy}')\n",
    "print(f'VGG-16 Validation accuracy:{val_accuracy}')\n",
    "print(f'VGG-16 Loss:{loss}')\n",
    "print(f'VGG-16 Validation loss:{val_loss}')"
   ]
  },
  {
   "cell_type": "code",
   "outputs": [
    {
     "data": {
      "text/plain": "    Accuracy  Validation accuracy      Loss  Validation loss\n0   0.260032             0.672365  3.212986         1.414410\n1   0.559872             0.837607  1.631629         0.748228\n2   0.703371             0.857550  1.127658         0.575521\n3   0.766934             0.900285  0.863759         0.407330\n4   0.822472             0.948718  0.664505         0.276936\n..       ...                  ...       ...              ...\n95  0.970465             0.957265  0.096051         0.320622\n96  0.976244             0.960114  0.071887         0.279242\n97  0.979775             0.954416  0.065028         0.291175\n98  0.978812             0.962963  0.062827         0.215620\n99  0.986838             0.962963  0.034888         0.322599\n\n[100 rows x 4 columns]",
      "text/html": "<div>\n<style scoped>\n    .dataframe tbody tr th:only-of-type {\n        vertical-align: middle;\n    }\n\n    .dataframe tbody tr th {\n        vertical-align: top;\n    }\n\n    .dataframe thead th {\n        text-align: right;\n    }\n</style>\n<table border=\"1\" class=\"dataframe\">\n  <thead>\n    <tr style=\"text-align: right;\">\n      <th></th>\n      <th>Accuracy</th>\n      <th>Validation accuracy</th>\n      <th>Loss</th>\n      <th>Validation loss</th>\n    </tr>\n  </thead>\n  <tbody>\n    <tr>\n      <th>0</th>\n      <td>0.260032</td>\n      <td>0.672365</td>\n      <td>3.212986</td>\n      <td>1.414410</td>\n    </tr>\n    <tr>\n      <th>1</th>\n      <td>0.559872</td>\n      <td>0.837607</td>\n      <td>1.631629</td>\n      <td>0.748228</td>\n    </tr>\n    <tr>\n      <th>2</th>\n      <td>0.703371</td>\n      <td>0.857550</td>\n      <td>1.127658</td>\n      <td>0.575521</td>\n    </tr>\n    <tr>\n      <th>3</th>\n      <td>0.766934</td>\n      <td>0.900285</td>\n      <td>0.863759</td>\n      <td>0.407330</td>\n    </tr>\n    <tr>\n      <th>4</th>\n      <td>0.822472</td>\n      <td>0.948718</td>\n      <td>0.664505</td>\n      <td>0.276936</td>\n    </tr>\n    <tr>\n      <th>...</th>\n      <td>...</td>\n      <td>...</td>\n      <td>...</td>\n      <td>...</td>\n    </tr>\n    <tr>\n      <th>95</th>\n      <td>0.970465</td>\n      <td>0.957265</td>\n      <td>0.096051</td>\n      <td>0.320622</td>\n    </tr>\n    <tr>\n      <th>96</th>\n      <td>0.976244</td>\n      <td>0.960114</td>\n      <td>0.071887</td>\n      <td>0.279242</td>\n    </tr>\n    <tr>\n      <th>97</th>\n      <td>0.979775</td>\n      <td>0.954416</td>\n      <td>0.065028</td>\n      <td>0.291175</td>\n    </tr>\n    <tr>\n      <th>98</th>\n      <td>0.978812</td>\n      <td>0.962963</td>\n      <td>0.062827</td>\n      <td>0.215620</td>\n    </tr>\n    <tr>\n      <th>99</th>\n      <td>0.986838</td>\n      <td>0.962963</td>\n      <td>0.034888</td>\n      <td>0.322599</td>\n    </tr>\n  </tbody>\n</table>\n<p>100 rows × 4 columns</p>\n</div>"
     },
     "execution_count": 16,
     "metadata": {},
     "output_type": "execute_result"
    }
   ],
   "source": [
    "metrics = {\n",
    "    'Accuracy' : accuracy,\n",
    "    'Validation accuracy' : val_accuracy,\n",
    "    'Loss' : loss,\n",
    "    'Validation loss': val_loss\n",
    "}\n",
    "df = pd.DataFrame(metrics)\n",
    "df.to_csv('VGG16_finetuned_metric_df.csv')\n",
    "df"
   ],
   "metadata": {
    "collapsed": false,
    "ExecuteTime": {
     "end_time": "2024-02-10T12:43:46.144884Z",
     "start_time": "2024-02-10T12:43:46.070185Z"
    }
   },
   "execution_count": 16
  },
  {
   "cell_type": "code",
   "outputs": [
    {
     "data": {
      "text/plain": "    Accuracy  Validation accuracy      Loss  Validation loss\n95  0.970465             0.957265  0.096051         0.320622\n96  0.976244             0.960114  0.071887         0.279242\n97  0.979775             0.954416  0.065028         0.291175\n98  0.978812             0.962963  0.062827         0.215620\n99  0.986838             0.962963  0.034888         0.322599",
      "text/html": "<div>\n<style scoped>\n    .dataframe tbody tr th:only-of-type {\n        vertical-align: middle;\n    }\n\n    .dataframe tbody tr th {\n        vertical-align: top;\n    }\n\n    .dataframe thead th {\n        text-align: right;\n    }\n</style>\n<table border=\"1\" class=\"dataframe\">\n  <thead>\n    <tr style=\"text-align: right;\">\n      <th></th>\n      <th>Accuracy</th>\n      <th>Validation accuracy</th>\n      <th>Loss</th>\n      <th>Validation loss</th>\n    </tr>\n  </thead>\n  <tbody>\n    <tr>\n      <th>95</th>\n      <td>0.970465</td>\n      <td>0.957265</td>\n      <td>0.096051</td>\n      <td>0.320622</td>\n    </tr>\n    <tr>\n      <th>96</th>\n      <td>0.976244</td>\n      <td>0.960114</td>\n      <td>0.071887</td>\n      <td>0.279242</td>\n    </tr>\n    <tr>\n      <th>97</th>\n      <td>0.979775</td>\n      <td>0.954416</td>\n      <td>0.065028</td>\n      <td>0.291175</td>\n    </tr>\n    <tr>\n      <th>98</th>\n      <td>0.978812</td>\n      <td>0.962963</td>\n      <td>0.062827</td>\n      <td>0.215620</td>\n    </tr>\n    <tr>\n      <th>99</th>\n      <td>0.986838</td>\n      <td>0.962963</td>\n      <td>0.034888</td>\n      <td>0.322599</td>\n    </tr>\n  </tbody>\n</table>\n</div>"
     },
     "execution_count": 17,
     "metadata": {},
     "output_type": "execute_result"
    }
   ],
   "source": [
    "df.tail()"
   ],
   "metadata": {
    "collapsed": false,
    "ExecuteTime": {
     "end_time": "2024-02-10T13:11:18.964851Z",
     "start_time": "2024-02-10T13:11:18.916172Z"
    }
   },
   "execution_count": 17
  },
  {
   "cell_type": "code",
   "execution_count": 14,
   "metadata": {
    "ExecuteTime": {
     "end_time": "2024-02-10T08:18:29.706401Z",
     "start_time": "2024-02-10T08:18:29.584438Z"
    }
   },
   "outputs": [
    {
     "name": "stderr",
     "output_type": "stream",
     "text": [
      "/Users/lisadujesiefken/Documents/ULondon/Final Project/code/venv/lib/python3.9/site-packages/keras/src/engine/training.py:3103: UserWarning: You are saving your model as an HDF5 file via `model.save()`. This file format is considered legacy. We recommend using instead the native Keras format, e.g. `model.save('my_model.keras')`.\n",
      "  saving_api.save_model(\n"
     ]
    }
   ],
   "source": [
    "model.save('vgg16_fine_tuned_epoch_100.h5')"
   ]
  },
  {
   "cell_type": "markdown",
   "metadata": {},
   "source": [
    "### Testing fine-tuned VGG16 model"
   ]
  },
  {
   "cell_type": "code",
   "execution_count": 88,
   "metadata": {},
   "outputs": [],
   "source": [
    "model = load_model('vgg16_fine_tuned.h5')"
   ]
  },
  {
   "cell_type": "code",
   "execution_count": 89,
   "metadata": {},
   "outputs": [],
   "source": [
    "img_path = '/Users/lisadujesiefken/Documents/ULondon/Final Project/code/images/test/apple/Image_1.jpg'\n",
    "img = image.load_img(img_path, target_size=(224, 224))\n",
    "img_array = image.img_to_array(img)\n",
    "img_array = np.expand_dims(img_array, axis=0)\n",
    "img_array = preprocess_input(img_array)\n"
   ]
  },
  {
   "cell_type": "code",
   "execution_count": 90,
   "metadata": {},
   "outputs": [
    {
     "name": "stdout",
     "output_type": "stream",
     "text": [
      "1/1 [==============================] - 0s 124ms/step\n",
      "Predicted Class: 0\n"
     ]
    }
   ],
   "source": [
    "predictions = model.predict(img_array)\n",
    "\n",
    "# Assuming your model has been trained for classification\n",
    "predicted_class = np.argmax(predictions)\n",
    "\n",
    "print(f\"Predicted Class: {predicted_class}\")\n"
   ]
  },
  {
   "cell_type": "code",
   "execution_count": 91,
   "metadata": {},
   "outputs": [
    {
     "name": "stdout",
     "output_type": "stream",
     "text": [
      "Predicted Class Label: apple\n"
     ]
    }
   ],
   "source": [
    "class_labels = os.listdir('/Users/lisadujesiefken/Documents/ULondon/Final Project/code/images/test') \n",
    "predicted_class_label = class_labels[predicted_class]\n",
    "\n",
    "print(f\"Predicted Class Label: {predicted_class_label}\")"
   ]
  },
  {
   "cell_type": "markdown",
   "metadata": {},
   "source": [
    "### Base Inception V3 model"
   ]
  },
  {
   "cell_type": "code",
   "execution_count": 30,
   "metadata": {},
   "outputs": [],
   "source": [
    "from tensorflow.keras.preprocessing import image\n",
    "from tensorflow.keras.applications.inception_v3 import preprocess_input, decode_predictions\n",
    "from tensorflow.keras.applications import InceptionV3"
   ]
  },
  {
   "cell_type": "code",
   "execution_count": 31,
   "metadata": {},
   "outputs": [],
   "source": [
    "# Load and preprocess the image\n",
    "img_path = '/Users/lisadujesiefken/Documents/ULondon/Final Project/code/images/test/apple/Image_1.jpg'\n",
    "img = image.load_img(img_path, target_size=(299, 299))  \n",
    "img_array = image.img_to_array(img)\n",
    "img_array = np.expand_dims(img_array, axis=0)\n",
    "img_array = preprocess_input(img_array)"
   ]
  },
  {
   "cell_type": "code",
   "execution_count": 61,
   "metadata": {},
   "outputs": [],
   "source": [
    "# Load InceptionV3 model with pre-trained weights\n",
    "model = InceptionV3(weights='imagenet')\n"
   ]
  },
  {
   "cell_type": "code",
   "execution_count": 33,
   "metadata": {},
   "outputs": [
    {
     "name": "stdout",
     "output_type": "stream",
     "text": [
      "1/1 [==============================] - 0s 449ms/step\n",
      "Predictions:\n",
      "1: Granny_Smith (0.96)\n",
      "2: pomegranate (0.00)\n",
      "3: fig (0.00)\n"
     ]
    }
   ],
   "source": [
    "# Get predictions for the image\n",
    "predictions = model.predict(img_array)\n",
    "\n",
    "# Decode and print the top-3 predicted classes\n",
    "decoded_predictions = decode_predictions(predictions, top=3)[0]\n",
    "print(\"Predictions:\")\n",
    "for i, (imagenet_id, label, score) in enumerate(decoded_predictions):\n",
    "    print(f\"{i + 1}: {label} ({score:.2f})\")\n"
   ]
  },
  {
   "cell_type": "markdown",
   "metadata": {},
   "source": [
    "### Fine-tuning Inception model on Dataset"
   ]
  },
  {
   "cell_type": "code",
   "execution_count": 92,
   "metadata": {},
   "outputs": [],
   "source": [
    "# Load InceptionV3 model with pre-trained weights (excluding the top layers)\n",
    "base_model = InceptionV3(weights='imagenet', include_top=False)\n",
    "\n",
    "# Freeze the pre-trained layers\n",
    "for layer in base_model.layers:\n",
    "    layer.trainable = False\n",
    "\n",
    "# Add custom top layers for your specific task\n",
    "x = base_model.output\n",
    "x = GlobalAveragePooling2D()(x)\n",
    "x = Dense(256, activation='relu')(x)\n",
    "predictions = Dense(num_classes, activation='softmax')(x)  # Change num_classes to the number of classes in your dataset\n",
    "\n",
    "# Create a new model with custom top layers\n",
    "model = Model(inputs=base_model.input, outputs=predictions)"
   ]
  },
  {
   "cell_type": "code",
   "execution_count": 93,
   "metadata": {},
   "outputs": [],
   "source": [
    "model.compile(optimizer='adam', loss='categorical_crossentropy', metrics=['accuracy'])"
   ]
  },
  {
   "cell_type": "code",
   "execution_count": 94,
   "metadata": {},
   "outputs": [
    {
     "name": "stdout",
     "output_type": "stream",
     "text": [
      "Found 3115 images belonging to 36 classes.\n",
      "Found 351 images belonging to 36 classes.\n"
     ]
    }
   ],
   "source": [
    "train_datagen = ImageDataGenerator(rescale=1./255, shear_range=0.2, zoom_range=0.2, horizontal_flip=True)\n",
    "test_datagen = ImageDataGenerator(rescale=1./255)\n",
    "\n",
    "train_generator = train_datagen.flow_from_directory('/Users/lisadujesiefken/Documents/ULondon/Final Project/code/images/train',\n",
    "                                                     target_size=(299, 299), batch_size=batch_size, class_mode='categorical')\n",
    "validation_generator = test_datagen.flow_from_directory('/Users/lisadujesiefken/Documents/ULondon/Final Project/code/images/validation',\n",
    "                                                         target_size=(299, 299), batch_size=batch_size, class_mode='categorical')"
   ]
  },
  {
   "cell_type": "code",
   "execution_count": 95,
   "metadata": {},
   "outputs": [
    {
     "name": "stdout",
     "output_type": "stream",
     "text": [
      "Epoch 1/25\n"
     ]
    },
    {
     "name": "stderr",
     "output_type": "stream",
     "text": [
      "2024-01-05 13:57:46.617631: I tensorflow/core/common_runtime/executor.cc:1210] [/device:CPU:0] (DEBUG INFO) Executor start aborting (this does not indicate an error and you can ignore this message): INVALID_ARGUMENT: You must feed a value for placeholder tensor 'Placeholder/_0' with dtype int32\n",
      "\t [[{{node Placeholder/_0}}]]\n",
      "/Library/Frameworks/Python.framework/Versions/3.11/lib/python3.11/site-packages/PIL/Image.py:996: UserWarning: Palette images with Transparency expressed in bytes should be converted to RGBA images\n",
      "  warnings.warn(\n"
     ]
    },
    {
     "name": "stdout",
     "output_type": "stream",
     "text": [
      "49/49 [==============================] - ETA: 0s - loss: 1.7185 - accuracy: 0.5400"
     ]
    },
    {
     "name": "stderr",
     "output_type": "stream",
     "text": [
      "2024-01-05 13:59:32.254240: I tensorflow/core/common_runtime/executor.cc:1210] [/device:CPU:0] (DEBUG INFO) Executor start aborting (this does not indicate an error and you can ignore this message): INVALID_ARGUMENT: You must feed a value for placeholder tensor 'Placeholder/_0' with dtype int32\n",
      "\t [[{{node Placeholder/_0}}]]\n"
     ]
    },
    {
     "name": "stdout",
     "output_type": "stream",
     "text": [
      "49/49 [==============================] - 117s 2s/step - loss: 1.7185 - accuracy: 0.5400 - val_loss: 0.6052 - val_accuracy: 0.8291\n",
      "Epoch 2/25\n",
      "49/49 [==============================] - 116s 2s/step - loss: 0.7124 - accuracy: 0.7708 - val_loss: 0.4223 - val_accuracy: 0.8661\n",
      "Epoch 3/25\n",
      "49/49 [==============================] - 116s 2s/step - loss: 0.5514 - accuracy: 0.8263 - val_loss: 0.3300 - val_accuracy: 0.9231\n",
      "Epoch 4/25\n",
      "49/49 [==============================] - 114s 2s/step - loss: 0.4307 - accuracy: 0.8616 - val_loss: 0.3026 - val_accuracy: 0.9060\n",
      "Epoch 5/25\n",
      "49/49 [==============================] - 113s 2s/step - loss: 0.4042 - accuracy: 0.8658 - val_loss: 0.2984 - val_accuracy: 0.9145\n",
      "Epoch 6/25\n",
      "49/49 [==============================] - 113s 2s/step - loss: 0.3751 - accuracy: 0.8693 - val_loss: 0.2567 - val_accuracy: 0.9145\n",
      "Epoch 7/25\n",
      "49/49 [==============================] - 114s 2s/step - loss: 0.3144 - accuracy: 0.8928 - val_loss: 0.2312 - val_accuracy: 0.9316\n",
      "Epoch 8/25\n",
      "49/49 [==============================] - 114s 2s/step - loss: 0.2763 - accuracy: 0.9075 - val_loss: 0.1967 - val_accuracy: 0.9402\n",
      "Epoch 9/25\n",
      "49/49 [==============================] - 117s 2s/step - loss: 0.2392 - accuracy: 0.9140 - val_loss: 0.2083 - val_accuracy: 0.9487\n",
      "Epoch 10/25\n",
      "49/49 [==============================] - 115s 2s/step - loss: 0.2262 - accuracy: 0.9188 - val_loss: 0.2150 - val_accuracy: 0.9373\n",
      "Epoch 11/25\n",
      "49/49 [==============================] - 115s 2s/step - loss: 0.2262 - accuracy: 0.9226 - val_loss: 0.1919 - val_accuracy: 0.9402\n",
      "Epoch 12/25\n",
      "49/49 [==============================] - 114s 2s/step - loss: 0.1834 - accuracy: 0.9364 - val_loss: 0.2038 - val_accuracy: 0.9345\n",
      "Epoch 13/25\n",
      "49/49 [==============================] - 114s 2s/step - loss: 0.1830 - accuracy: 0.9419 - val_loss: 0.1800 - val_accuracy: 0.9459\n",
      "Epoch 14/25\n",
      "49/49 [==============================] - 113s 2s/step - loss: 0.1754 - accuracy: 0.9384 - val_loss: 0.1854 - val_accuracy: 0.9573\n",
      "Epoch 15/25\n",
      "49/49 [==============================] - 114s 2s/step - loss: 0.1530 - accuracy: 0.9490 - val_loss: 0.2054 - val_accuracy: 0.9373\n",
      "Epoch 16/25\n",
      "49/49 [==============================] - 115s 2s/step - loss: 0.1497 - accuracy: 0.9457 - val_loss: 0.1839 - val_accuracy: 0.9487\n",
      "Epoch 17/25\n",
      "49/49 [==============================] - 115s 2s/step - loss: 0.1350 - accuracy: 0.9544 - val_loss: 0.1658 - val_accuracy: 0.9544\n",
      "Epoch 18/25\n",
      "49/49 [==============================] - 115s 2s/step - loss: 0.1332 - accuracy: 0.9535 - val_loss: 0.1749 - val_accuracy: 0.9430\n",
      "Epoch 19/25\n",
      "49/49 [==============================] - 118s 2s/step - loss: 0.1170 - accuracy: 0.9586 - val_loss: 0.1670 - val_accuracy: 0.9487\n",
      "Epoch 20/25\n",
      "49/49 [==============================] - 117s 2s/step - loss: 0.1125 - accuracy: 0.9621 - val_loss: 0.1751 - val_accuracy: 0.9487\n",
      "Epoch 21/25\n",
      "49/49 [==============================] - 117s 2s/step - loss: 0.1110 - accuracy: 0.9644 - val_loss: 0.1765 - val_accuracy: 0.9601\n",
      "Epoch 22/25\n",
      "49/49 [==============================] - 117s 2s/step - loss: 0.1068 - accuracy: 0.9640 - val_loss: 0.1666 - val_accuracy: 0.9487\n",
      "Epoch 23/25\n",
      "49/49 [==============================] - 118s 2s/step - loss: 0.1018 - accuracy: 0.9695 - val_loss: 0.1439 - val_accuracy: 0.9658\n",
      "Epoch 24/25\n",
      "49/49 [==============================] - 115s 2s/step - loss: 0.0880 - accuracy: 0.9750 - val_loss: 0.1625 - val_accuracy: 0.9687\n",
      "Epoch 25/25\n",
      "49/49 [==============================] - 115s 2s/step - loss: 0.0928 - accuracy: 0.9682 - val_loss: 0.1709 - val_accuracy: 0.9658\n"
     ]
    }
   ],
   "source": [
    "#train model using same number of epoch as VGG16\n",
    "history = model.fit(train_generator, epochs=25, validation_data=validation_generator)"
   ]
  },
  {
   "cell_type": "code",
   "execution_count": 96,
   "metadata": {},
   "outputs": [],
   "source": [
    "model.save('inception_fine_tuned.h5')"
   ]
  },
  {
   "cell_type": "markdown",
   "metadata": {},
   "source": [
    "### Assessing performance of fine-tuned Inception V3 model"
   ]
  },
  {
   "cell_type": "code",
   "execution_count": 97,
   "metadata": {},
   "outputs": [
    {
     "data": {
      "image/png": "[encoded data removed]",
      "text/plain": [
       "<Figure size 640x480 with 1 Axes>"
      ]
     },
     "metadata": {},
     "output_type": "display_data"
    }
   ],
   "source": [
    "# Plot training & validation accuracy values\n",
    "plt.plot(history.history['accuracy'])\n",
    "plt.plot(history.history['val_accuracy'])\n",
    "plt.title('Model Accuracy Over Epochs')\n",
    "plt.xlabel('Epoch')\n",
    "plt.ylabel('Accuracy')\n",
    "plt.legend(['Training', 'Validation'], loc='upper left')\n",
    "plt.show()"
   ]
  },
  {
   "cell_type": "code",
   "execution_count": 98,
   "metadata": {},
   "outputs": [
    {
     "name": "stdout",
     "output_type": "stream",
     "text": [
      "Inception V3 Accuracy:[0.5399678945541382, 0.7707865238189697, 0.8263242244720459, 0.8616372346878052, 0.8658105731010437, 0.8693419098854065, 0.8927769064903259, 0.9075441360473633, 0.9139646887779236, 0.9187800884246826, 0.9226323962211609, 0.9364365935325623, 0.9418940544128418, 0.9383627772331238, 0.9489566683769226, 0.9457463622093201, 0.9544141292572021, 0.9534510374069214, 0.9585874676704407, 0.9621188044548035, 0.9643659591674805, 0.9640449285507202, 0.9695023894309998, 0.9749598503112793, 0.9682183265686035]\n",
      "Inception V3 Validation accuracy:[0.8290598392486572, 0.8660968542098999, 0.9230769276618958, 0.9059829115867615, 0.9145299196243286, 0.9145299196243286, 0.9316239356994629, 0.94017094373703, 0.9487179517745972, 0.9373219609260559, 0.94017094373703, 0.934472918510437, 0.945868968963623, 0.9572649598121643, 0.9373219609260559, 0.9487179517745972, 0.9544159770011902, 0.9430199265480042, 0.9487179517745972, 0.9487179517745972, 0.9601139426231384, 0.9487179517745972, 0.9658119678497314, 0.9686609506607056, 0.9658119678497314]\n",
      "Inception V3 Loss:[1.7184845209121704, 0.7123996615409851, 0.5513850450515747, 0.43074819445610046, 0.40419521927833557, 0.3751412332057953, 0.3143519163131714, 0.27634763717651367, 0.23919247090816498, 0.2261546105146408, 0.22620537877082825, 0.18338537216186523, 0.18298040330410004, 0.1753862351179123, 0.15297164022922516, 0.14972442388534546, 0.13498704135417938, 0.13324090838432312, 0.11703643947839737, 0.11254125833511353, 0.11098477244377136, 0.10677015036344528, 0.10177712887525558, 0.0880027487874031, 0.09277138113975525]\n",
      "Inception V3 Validation loss:[0.6052426099777222, 0.42230424284935, 0.3300270438194275, 0.30255216360092163, 0.2983643114566803, 0.25669196248054504, 0.23122985661029816, 0.19666123390197754, 0.20834876596927643, 0.21502386033535004, 0.1919204443693161, 0.20375430583953857, 0.18001750111579895, 0.18538177013397217, 0.2053622156381607, 0.18390551209449768, 0.16583722829818726, 0.17485260963439941, 0.16700907051563263, 0.17507900297641754, 0.1764749437570572, 0.1666146069765091, 0.14389704167842865, 0.1625363826751709, 0.17088285088539124]\n"
     ]
    }
   ],
   "source": [
    "#InceptionV3 accuracy and validation accuracy measures\n",
    "accuracy = history.history['accuracy']\n",
    "val_accuracy = history.history['val_accuracy']\n",
    "loss = history.history['loss']\n",
    "val_loss = history.history['val_loss']\n",
    "print(f'Inception V3 Accuracy:{accuracy}')\n",
    "print(f'Inception V3 Validation accuracy:{val_accuracy}')\n",
    "print(f'Inception V3 Loss:{loss}')\n",
    "print(f'Inception V3 Validation loss:{val_loss}')"
   ]
  },
  {
   "cell_type": "code",
   "execution_count": 99,
   "metadata": {},
   "outputs": [],
   "source": [
    "model = load_model('inception_fine_tuned.h5')"
   ]
  },
  {
   "cell_type": "code",
   "execution_count": 100,
   "metadata": {},
   "outputs": [],
   "source": [
    "img_path = '/Users/lisadujesiefken/Documents/ULondon/Final Project/code/images/test/apple/Image_1.jpg'\n",
    "img = image.load_img(img_path, target_size=(224, 224))\n",
    "img_array = image.img_to_array(img)\n",
    "img_array = np.expand_dims(img_array, axis=0)\n",
    "img_array = preprocess_input(img_array)"
   ]
  },
  {
   "cell_type": "code",
   "execution_count": 101,
   "metadata": {},
   "outputs": [
    {
     "name": "stdout",
     "output_type": "stream",
     "text": [
      "1/1 [==============================] - 1s 631ms/step\n",
      "Predicted Class: 22\n"
     ]
    }
   ],
   "source": [
    "predictions = model.predict(img_array)\n",
    "\n",
    "# Assuming your model has been trained for classification\n",
    "predicted_class = np.argmax(predictions)\n",
    "\n",
    "print(f\"Predicted Class: {predicted_class}\")"
   ]
  },
  {
   "cell_type": "code",
   "execution_count": 102,
   "metadata": {},
   "outputs": [
    {
     "name": "stdout",
     "output_type": "stream",
     "text": [
      "Predicted Class Label: mango\n"
     ]
    }
   ],
   "source": [
    "class_labels = os.listdir('/Users/lisadujesiefken/Documents/ULondon/Final Project/code/images/test')\n",
    "predicted_class_label = class_labels[predicted_class]\n",
    "\n",
    "print(f\"Predicted Class Label: {predicted_class_label}\")"
   ]
  },
  {
   "cell_type": "markdown",
   "metadata": {},
   "source": [
    "### ResNet50 base evaluation"
   ]
  },
  {
   "cell_type": "code",
   "execution_count": 103,
   "metadata": {},
   "outputs": [],
   "source": [
    "from tensorflow.keras.applications import ResNet50"
   ]
  },
  {
   "cell_type": "code",
   "execution_count": 50,
   "metadata": {},
   "outputs": [],
   "source": [
    "# Load and preprocess the image\n",
    "img_path = '/Users/lisadujesiefken/Documents/ULondon/Final Project/code/images/test/apple/Image_1.jpg'\n",
    "img = image.load_img(img_path, target_size=(224, 224))  # ResNet50 requires input size (224, 224)\n",
    "img_array = image.img_to_array(img)\n",
    "img_array = np.expand_dims(img_array, axis=0)\n",
    "img_array = preprocess_input(img_array)"
   ]
  },
  {
   "cell_type": "code",
   "execution_count": 51,
   "metadata": {},
   "outputs": [
    {
     "name": "stdout",
     "output_type": "stream",
     "text": [
      "Downloading data from https://storage.googleapis.com/tensorflow/keras-applications/resnet/resnet50_weights_tf_dim_ordering_tf_kernels.h5\n",
      "102967424/102967424 [==============================] - 8s 0us/step\n"
     ]
    }
   ],
   "source": [
    "# Load ResNet50 model with pre-trained weights\n",
    "model = ResNet50(weights='imagenet')"
   ]
  },
  {
   "cell_type": "code",
   "execution_count": 52,
   "metadata": {},
   "outputs": [
    {
     "name": "stdout",
     "output_type": "stream",
     "text": [
      "WARNING:tensorflow:5 out of the last 7 calls to <function Model.make_predict_function.<locals>.predict_function at 0x3ab405f80> triggered tf.function retracing. Tracing is expensive and the excessive number of tracings could be due to (1) creating @tf.function repeatedly in a loop, (2) passing tensors with different shapes, (3) passing Python objects instead of tensors. For (1), please define your @tf.function outside of the loop. For (2), @tf.function has reduce_retracing=True option that can avoid unnecessary retracing. For (3), please refer to https://www.tensorflow.org/guide/function#controlling_retracing and https://www.tensorflow.org/api_docs/python/tf/function for  more details.\n",
      "1/1 [==============================] - 0s 375ms/step\n",
      "Predictions:\n",
      "1: strawberry (0.35)\n",
      "2: Granny_Smith (0.30)\n",
      "3: pomegranate (0.08)\n"
     ]
    }
   ],
   "source": [
    "# Get predictions for the image\n",
    "predictions = model.predict(img_array)\n",
    "\n",
    "# Decode and print the top-3 predicted classes\n",
    "decoded_predictions = decode_predictions(predictions, top=3)[0]\n",
    "print(\"Predictions:\")\n",
    "for i, (imagenet_id, label, score) in enumerate(decoded_predictions):\n",
    "    print(f\"{i + 1}: {label} ({score:.2f})\")\n"
   ]
  },
  {
   "cell_type": "markdown",
   "metadata": {},
   "source": [
    "### Fine-tune ResNet50 model"
   ]
  },
  {
   "cell_type": "code",
   "execution_count": 104,
   "metadata": {},
   "outputs": [],
   "source": [
    "# Load ResNet50 model with pre-trained weights (excluding the top layers)\n",
    "base_model = ResNet50(weights='imagenet', include_top=False)\n",
    "\n",
    "# Freeze the pre-trained layers\n",
    "for layer in base_model.layers:\n",
    "    layer.trainable = False\n",
    "\n",
    "# Add custom top layers for your specific task\n",
    "x = base_model.output\n",
    "x = GlobalAveragePooling2D()(x)\n",
    "x = Dense(256, activation='relu')(x)\n",
    "predictions = Dense(num_classes, activation='softmax')(x)  # Change num_classes to the number of classes in your dataset\n",
    "\n",
    "# Create a new model with custom top layers\n",
    "model = Model(inputs=base_model.input, outputs=predictions)"
   ]
  },
  {
   "cell_type": "code",
   "execution_count": 105,
   "metadata": {},
   "outputs": [],
   "source": [
    "model.compile(optimizer='adam', loss='categorical_crossentropy', metrics=['accuracy'])"
   ]
  },
  {
   "cell_type": "code",
   "execution_count": 106,
   "metadata": {},
   "outputs": [
    {
     "name": "stdout",
     "output_type": "stream",
     "text": [
      "Found 3115 images belonging to 36 classes.\n",
      "Found 351 images belonging to 36 classes.\n"
     ]
    }
   ],
   "source": [
    "train_datagen = ImageDataGenerator(rescale=1./255, shear_range=0.2, zoom_range=0.2, horizontal_flip=True)\n",
    "test_datagen = ImageDataGenerator(rescale=1./255)\n",
    "\n",
    "train_generator = train_datagen.flow_from_directory('/Users/lisadujesiefken/Documents/ULondon/Final Project/code/images/train',\n",
    "                                                     target_size=(299, 299), batch_size=batch_size, class_mode='categorical')\n",
    "validation_generator = test_datagen.flow_from_directory('/Users/lisadujesiefken/Documents/ULondon/Final Project/code/images/validation',\n",
    "                                                         target_size=(299, 299), batch_size=batch_size, class_mode='categorical')"
   ]
  },
  {
   "cell_type": "code",
   "execution_count": 107,
   "metadata": {},
   "outputs": [
    {
     "name": "stdout",
     "output_type": "stream",
     "text": [
      "Epoch 1/25\n"
     ]
    },
    {
     "name": "stderr",
     "output_type": "stream",
     "text": [
      "2024-01-05 14:47:41.481756: I tensorflow/core/common_runtime/executor.cc:1210] [/device:CPU:0] (DEBUG INFO) Executor start aborting (this does not indicate an error and you can ignore this message): INVALID_ARGUMENT: You must feed a value for placeholder tensor 'Placeholder/_0' with dtype int32\n",
      "\t [[{{node Placeholder/_0}}]]\n"
     ]
    },
    {
     "name": "stdout",
     "output_type": "stream",
     "text": [
      "49/49 [==============================] - ETA: 0s - loss: 3.6709 - accuracy: 0.0350"
     ]
    },
    {
     "name": "stderr",
     "output_type": "stream",
     "text": [
      "2024-01-05 14:49:34.755258: I tensorflow/core/common_runtime/executor.cc:1210] [/device:CPU:0] (DEBUG INFO) Executor start aborting (this does not indicate an error and you can ignore this message): INVALID_ARGUMENT: You must feed a value for placeholder tensor 'Placeholder/_0' with dtype int32\n",
      "\t [[{{node Placeholder/_0}}]]\n"
     ]
    },
    {
     "name": "stdout",
     "output_type": "stream",
     "text": [
      "49/49 [==============================] - 126s 3s/step - loss: 3.6709 - accuracy: 0.0350 - val_loss: 3.5853 - val_accuracy: 0.0256\n",
      "Epoch 2/25\n",
      "49/49 [==============================] - 124s 3s/step - loss: 3.5764 - accuracy: 0.0459 - val_loss: 3.5456 - val_accuracy: 0.0541\n",
      "Epoch 3/25\n",
      "49/49 [==============================] - 123s 2s/step - loss: 3.5463 - accuracy: 0.0507 - val_loss: 3.4932 - val_accuracy: 0.0484\n",
      "Epoch 4/25\n",
      "49/49 [==============================] - 124s 3s/step - loss: 3.5115 - accuracy: 0.0584 - val_loss: 3.4337 - val_accuracy: 0.0627\n",
      "Epoch 5/25\n",
      "49/49 [==============================] - 121s 2s/step - loss: 3.4744 - accuracy: 0.0636 - val_loss: 3.4039 - val_accuracy: 0.0655\n",
      "Epoch 6/25\n",
      "49/49 [==============================] - 127s 3s/step - loss: 3.4517 - accuracy: 0.0652 - val_loss: 3.4553 - val_accuracy: 0.0513\n",
      "Epoch 7/25\n",
      "49/49 [==============================] - 128s 3s/step - loss: 3.4303 - accuracy: 0.0758 - val_loss: 3.3632 - val_accuracy: 0.0598\n",
      "Epoch 8/25\n",
      "49/49 [==============================] - 125s 3s/step - loss: 3.4102 - accuracy: 0.0674 - val_loss: 3.3264 - val_accuracy: 0.1111\n",
      "Epoch 9/25\n",
      "49/49 [==============================] - 124s 3s/step - loss: 3.4135 - accuracy: 0.0706 - val_loss: 3.3306 - val_accuracy: 0.0769\n",
      "Epoch 10/25\n",
      "49/49 [==============================] - 122s 2s/step - loss: 3.3878 - accuracy: 0.0806 - val_loss: 3.3721 - val_accuracy: 0.0940\n",
      "Epoch 11/25\n",
      "49/49 [==============================] - 122s 2s/step - loss: 3.3770 - accuracy: 0.0892 - val_loss: 3.3005 - val_accuracy: 0.1026\n",
      "Epoch 12/25\n",
      "49/49 [==============================] - 123s 2s/step - loss: 3.3678 - accuracy: 0.0848 - val_loss: 3.3344 - val_accuracy: 0.0798\n",
      "Epoch 13/25\n",
      "49/49 [==============================] - 123s 2s/step - loss: 3.3516 - accuracy: 0.0947 - val_loss: 3.2203 - val_accuracy: 0.1254\n",
      "Epoch 14/25\n",
      "49/49 [==============================] - 120s 2s/step - loss: 3.3403 - accuracy: 0.0928 - val_loss: 3.2222 - val_accuracy: 0.1026\n",
      "Epoch 15/25\n",
      "49/49 [==============================] - 120s 2s/step - loss: 3.3279 - accuracy: 0.0973 - val_loss: 3.2076 - val_accuracy: 0.1339\n",
      "Epoch 16/25\n",
      "49/49 [==============================] - 121s 2s/step - loss: 3.3205 - accuracy: 0.0950 - val_loss: 3.1983 - val_accuracy: 0.1254\n",
      "Epoch 17/25\n",
      "49/49 [==============================] - 120s 2s/step - loss: 3.3070 - accuracy: 0.1047 - val_loss: 3.1715 - val_accuracy: 0.1225\n",
      "Epoch 18/25\n",
      "49/49 [==============================] - 126s 3s/step - loss: 3.3022 - accuracy: 0.1056 - val_loss: 3.1252 - val_accuracy: 0.1396\n",
      "Epoch 19/25\n",
      "49/49 [==============================] - 127s 3s/step - loss: 3.2996 - accuracy: 0.1075 - val_loss: 3.2512 - val_accuracy: 0.1197\n",
      "Epoch 20/25\n",
      "49/49 [==============================] - 125s 3s/step - loss: 3.2874 - accuracy: 0.1085 - val_loss: 3.1036 - val_accuracy: 0.1567\n",
      "Epoch 21/25\n",
      "49/49 [==============================] - 121s 2s/step - loss: 3.2649 - accuracy: 0.1104 - val_loss: 3.0900 - val_accuracy: 0.1453\n",
      "Epoch 22/25\n",
      "49/49 [==============================] - 120s 2s/step - loss: 3.2449 - accuracy: 0.1262 - val_loss: 3.0703 - val_accuracy: 0.1852\n",
      "Epoch 23/25\n",
      "49/49 [==============================] - 123s 3s/step - loss: 3.2434 - accuracy: 0.1291 - val_loss: 3.0477 - val_accuracy: 0.1652\n",
      "Epoch 24/25\n",
      "49/49 [==============================] - 130s 3s/step - loss: 3.2327 - accuracy: 0.1255 - val_loss: 3.0255 - val_accuracy: 0.1823\n",
      "Epoch 25/25\n",
      "49/49 [==============================] - 123s 2s/step - loss: 3.2181 - accuracy: 0.1294 - val_loss: 3.0125 - val_accuracy: 0.1880\n"
     ]
    }
   ],
   "source": [
    "#using same epochs as other model\n",
    "epochs = 25\n",
    "history = model.fit(train_generator, epochs=25, validation_data=validation_generator)\n",
    "model.save('resnet50_fine_tuned.h5')"
   ]
  },
  {
   "cell_type": "markdown",
   "metadata": {},
   "source": [
    "### Assessing performance of fine-tuned ResNet50 model"
   ]
  },
  {
   "cell_type": "code",
   "execution_count": 108,
   "metadata": {},
   "outputs": [
    {
     "data": {
      "image/png": "[encoded data removed]",
      "text/plain": [
       "<Figure size 640x480 with 1 Axes>"
      ]
     },
     "metadata": {},
     "output_type": "display_data"
    }
   ],
   "source": [
    "# Plot training & validation accuracy values\n",
    "plt.plot(history.history['accuracy'])\n",
    "plt.plot(history.history['val_accuracy'])\n",
    "plt.title('Model Accuracy Over Epochs')\n",
    "plt.xlabel('Epoch')\n",
    "plt.ylabel('Accuracy')\n",
    "plt.legend(['Training', 'Validation'], loc='upper left')\n",
    "plt.show()"
   ]
  },
  {
   "cell_type": "code",
   "execution_count": 109,
   "metadata": {},
   "outputs": [
    {
     "name": "stdout",
     "output_type": "stream",
     "text": [
      "ResNet50 Accuracy:[0.034991975873708725, 0.045906901359558105, 0.050722312182188034, 0.05842696502804756, 0.06356340646743774, 0.06516853719949722, 0.07576244324445724, 0.06741572916507721, 0.07062600553035736, 0.08057785034179688, 0.08924558758735657, 0.0847512036561966, 0.09470304846763611, 0.09277688711881638, 0.09727127104997635, 0.09502407908439636, 0.10465489327907562, 0.10561797767877579, 0.10754413902759552, 0.10850722342729568, 0.11043338477611542, 0.12616372108459473, 0.12905296683311462, 0.1255216747522354, 0.12937399744987488]\n",
      "ResNet50 Validation accuracy:[0.025641025975346565, 0.054131053388118744, 0.04843304678797722, 0.06267806142568588, 0.0655270665884018, 0.05128205195069313, 0.05982905998826027, 0.1111111119389534, 0.07692307978868484, 0.09401709586381912, 0.10256410390138626, 0.07977207750082016, 0.12535612285137177, 0.10256410390138626, 0.1339031308889389, 0.12535612285137177, 0.12250712513923645, 0.13960114121437073, 0.11965811997652054, 0.156695157289505, 0.14529915153980255, 0.18518517911434174, 0.16524216532707214, 0.18233618140220642, 0.18803419172763824]\n",
      "ResNet50 Loss:[3.6709320545196533, 3.5763678550720215, 3.5463197231292725, 3.511465072631836, 3.4743905067443848, 3.4516677856445312, 3.4302825927734375, 3.410198926925659, 3.413471221923828, 3.387809991836548, 3.3770220279693604, 3.3678159713745117, 3.3516342639923096, 3.3403055667877197, 3.3278958797454834, 3.320478677749634, 3.3069753646850586, 3.3022303581237793, 3.299567699432373, 3.287421941757202, 3.2649035453796387, 3.2448713779449463, 3.2434158325195312, 3.232658863067627, 3.218113660812378]\n",
      "ResNet50 Validation loss:[3.585287094116211, 3.5455877780914307, 3.4932498931884766, 3.433683395385742, 3.403913736343384, 3.45526385307312, 3.3632454872131348, 3.3264365196228027, 3.3306491374969482, 3.372067928314209, 3.3004953861236572, 3.3343560695648193, 3.220324754714966, 3.222191572189331, 3.2076430320739746, 3.198314905166626, 3.1714956760406494, 3.125216007232666, 3.2511913776397705, 3.1035757064819336, 3.0899527072906494, 3.070328950881958, 3.047736406326294, 3.0254709720611572, 3.0124785900115967]\n"
     ]
    }
   ],
   "source": [
    "#ResNet50 accuracy and validation accuracy measures\n",
    "accuracy = history.history['accuracy']\n",
    "val_accuracy = history.history['val_accuracy']\n",
    "loss = history.history['loss']\n",
    "val_loss = history.history['val_loss']\n",
    "print(f'ResNet50 Accuracy:{accuracy}')\n",
    "print(f'ResNet50 Validation accuracy:{val_accuracy}')\n",
    "print(f'ResNet50 Loss:{loss}')\n",
    "print(f'ResNet50 Validation loss:{val_loss}')"
   ]
  },
  {
   "cell_type": "code",
   "execution_count": 110,
   "metadata": {},
   "outputs": [],
   "source": [
    "model = load_model('resnet50_fine_tuned.h5')"
   ]
  },
  {
   "cell_type": "code",
   "execution_count": 111,
   "metadata": {},
   "outputs": [],
   "source": [
    "img_path = '/Users/lisadujesiefken/Documents/ULondon/Final Project/code/images/test/apple/Image_1.jpg'\n",
    "img = image.load_img(img_path, target_size=(224, 224))\n",
    "img_array = image.img_to_array(img)\n",
    "img_array = np.expand_dims(img_array, axis=0)\n",
    "img_array = preprocess_input(img_array)"
   ]
  },
  {
   "cell_type": "code",
   "execution_count": 112,
   "metadata": {},
   "outputs": [
    {
     "name": "stdout",
     "output_type": "stream",
     "text": [
      "1/1 [==============================] - 0s 364ms/step\n",
      "Predicted Class: 35\n",
      "Predicted Class Label: carrot\n"
     ]
    }
   ],
   "source": [
    "predictions = model.predict(img_array)\n",
    "\n",
    "# Assuming your model has been trained for classification\n",
    "predicted_class = np.argmax(predictions)\n",
    "\n",
    "print(f\"Predicted Class: {predicted_class}\")\n",
    "\n",
    "class_labels = os.listdir('/Users/lisadujesiefken/Documents/ULondon/Final Project/code/images/test')  # Replace with your actual class labels\n",
    "predicted_class_label = class_labels[predicted_class]\n",
    "\n",
    "print(f\"Predicted Class Label: {predicted_class_label}\")"
   ]
  },
  {
   "cell_type": "code",
   "execution_count": null,
   "metadata": {},
   "outputs": [],
   "source": []
  }
 ],
 "metadata": {
  "kernelspec": {
   "display_name": "Python 3 (ipykernel)",
   "language": "python",
   "name": "python3"
  },
  "language_info": {
   "codemirror_mode": {
    "name": "ipython",
    "version": 3
   },
   "file_extension": ".py",
   "mimetype": "text/x-python",
   "name": "python",
   "nbconvert_exporter": "python",
   "pygments_lexer": "ipython3",
   "version": "3.11.2"
  },
  "vscode": {
   "interpreter": {
    "hash": "aee8b7b246df8f9039afb4144a1f6fd8d2ca17a180786b69acc140d282b71a49"
   }
  }
 },
 "nbformat": 4,
 "nbformat_minor": 2
}
